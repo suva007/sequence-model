{
  "nbformat": 4,
  "nbformat_minor": 0,
  "metadata": {
    "accelerator": "GPU",
    "colab": {
      "name": "Stock_market_prediction_using_sequence_model.ipynb",
      "provenance": [],
      "collapsed_sections": []
    },
    "kernelspec": {
      "display_name": "Python 3",
      "name": "python3"
    }
  },
  "cells": [
    {
      "cell_type": "markdown",
      "metadata": {
        "id": "HQJynlgSuuL-"
      },
      "source": [
        "\n",
        "\n",
        "# Tutorial : Stock Market Prediction using Sequence Model"
      ]
    },
    {
      "cell_type": "markdown",
      "metadata": {
        "id": "ht8SamOU0RsL"
      },
      "source": [
        "Schematically, a RNN layer uses a for loop to iterate over the timesteps of a sequence, while maintaining an internal state that encodes information about the timesteps it has seen so far.\n",
        "\n",
        "Here is a simple example of a Sequential model that processes sequences of float data, embeds each float data into a (60,1)-dimensional vector, then processes the sequence of vectors using LSTM/GRU layers."
      ]
    },
    {
      "cell_type": "markdown",
      "metadata": {
        "id": "__uykh4V3UxL"
      },
      "source": [
        "**1. Data Reading**"
      ]
    },
    {
      "cell_type": "code",
      "metadata": {
        "colab": {
          "base_uri": "https://localhost:8080/",
          "height": 450
        },
        "id": "QZakRIUCp24p",
        "outputId": "80afebb5-8a03-4a34-adc6-c66b564de972"
      },
      "source": [
        "import pandas as pd\n",
        "import numpy as np\n",
        "import matplotlib.pyplot as plt\n",
        "import seaborn as sns\n",
        "sns.set_style('whitegrid')\n",
        "plt.style.use(\"fivethirtyeight\")\n",
        "%matplotlib inline\n",
        "\n",
        "# For reading stock data from yahoo\n",
        "from pandas_datareader.data import DataReader\n",
        "\n",
        "# For time stamps\n",
        "from datetime import datetime\n",
        "df = DataReader('RELIANCE.NS', data_source='yahoo', start='2002-01-01', end=datetime.now())\n",
        "#Show the data\n",
        "df"
      ],
      "execution_count": null,
      "outputs": [
        {
          "output_type": "execute_result",
          "data": {
            "text/html": [
              "<div>\n",
              "<style scoped>\n",
              "    .dataframe tbody tr th:only-of-type {\n",
              "        vertical-align: middle;\n",
              "    }\n",
              "\n",
              "    .dataframe tbody tr th {\n",
              "        vertical-align: top;\n",
              "    }\n",
              "\n",
              "    .dataframe thead th {\n",
              "        text-align: right;\n",
              "    }\n",
              "</style>\n",
              "<table border=\"1\" class=\"dataframe\">\n",
              "  <thead>\n",
              "    <tr style=\"text-align: right;\">\n",
              "      <th></th>\n",
              "      <th>High</th>\n",
              "      <th>Low</th>\n",
              "      <th>Open</th>\n",
              "      <th>Close</th>\n",
              "      <th>Volume</th>\n",
              "      <th>Adj Close</th>\n",
              "    </tr>\n",
              "    <tr>\n",
              "      <th>Date</th>\n",
              "      <th></th>\n",
              "      <th></th>\n",
              "      <th></th>\n",
              "      <th></th>\n",
              "      <th></th>\n",
              "      <th></th>\n",
              "    </tr>\n",
              "  </thead>\n",
              "  <tbody>\n",
              "    <tr>\n",
              "      <th>2002-01-01</th>\n",
              "      <td>48.248001</td>\n",
              "      <td>47.263901</td>\n",
              "      <td>47.623199</td>\n",
              "      <td>47.638802</td>\n",
              "      <td>4409538.0</td>\n",
              "      <td>23.379265</td>\n",
              "    </tr>\n",
              "    <tr>\n",
              "      <th>2002-01-02</th>\n",
              "      <td>47.794998</td>\n",
              "      <td>47.014000</td>\n",
              "      <td>47.490398</td>\n",
              "      <td>47.420101</td>\n",
              "      <td>4379472.0</td>\n",
              "      <td>23.271935</td>\n",
              "    </tr>\n",
              "    <tr>\n",
              "      <th>2002-01-03</th>\n",
              "      <td>47.943401</td>\n",
              "      <td>46.115898</td>\n",
              "      <td>47.638802</td>\n",
              "      <td>46.303299</td>\n",
              "      <td>10104512.0</td>\n",
              "      <td>22.723852</td>\n",
              "    </tr>\n",
              "    <tr>\n",
              "      <th>2002-01-04</th>\n",
              "      <td>50.879799</td>\n",
              "      <td>46.545399</td>\n",
              "      <td>47.014000</td>\n",
              "      <td>50.145699</td>\n",
              "      <td>28667936.0</td>\n",
              "      <td>24.609550</td>\n",
              "    </tr>\n",
              "    <tr>\n",
              "      <th>2002-01-07</th>\n",
              "      <td>51.629501</td>\n",
              "      <td>49.560001</td>\n",
              "      <td>49.825500</td>\n",
              "      <td>49.981701</td>\n",
              "      <td>19441716.0</td>\n",
              "      <td>24.529072</td>\n",
              "    </tr>\n",
              "    <tr>\n",
              "      <th>...</th>\n",
              "      <td>...</td>\n",
              "      <td>...</td>\n",
              "      <td>...</td>\n",
              "      <td>...</td>\n",
              "      <td>...</td>\n",
              "      <td>...</td>\n",
              "    </tr>\n",
              "    <tr>\n",
              "      <th>2020-11-19</th>\n",
              "      <td>2010.449951</td>\n",
              "      <td>1968.199951</td>\n",
              "      <td>1987.199951</td>\n",
              "      <td>1973.150024</td>\n",
              "      <td>12828008.0</td>\n",
              "      <td>1973.150024</td>\n",
              "    </tr>\n",
              "    <tr>\n",
              "      <th>2020-11-20</th>\n",
              "      <td>1983.800049</td>\n",
              "      <td>1895.000000</td>\n",
              "      <td>1975.000000</td>\n",
              "      <td>1899.500000</td>\n",
              "      <td>26522972.0</td>\n",
              "      <td>1899.500000</td>\n",
              "    </tr>\n",
              "    <tr>\n",
              "      <th>2020-11-23</th>\n",
              "      <td>1970.000000</td>\n",
              "      <td>1926.250000</td>\n",
              "      <td>1951.000000</td>\n",
              "      <td>1950.699951</td>\n",
              "      <td>20918665.0</td>\n",
              "      <td>1950.699951</td>\n",
              "    </tr>\n",
              "    <tr>\n",
              "      <th>2020-11-24</th>\n",
              "      <td>1974.000000</td>\n",
              "      <td>1932.000000</td>\n",
              "      <td>1964.000000</td>\n",
              "      <td>1964.050049</td>\n",
              "      <td>14277083.0</td>\n",
              "      <td>1964.050049</td>\n",
              "    </tr>\n",
              "    <tr>\n",
              "      <th>2020-11-25</th>\n",
              "      <td>1992.949951</td>\n",
              "      <td>1956.050049</td>\n",
              "      <td>1980.000000</td>\n",
              "      <td>1962.750000</td>\n",
              "      <td>11545795.0</td>\n",
              "      <td>1962.750000</td>\n",
              "    </tr>\n",
              "  </tbody>\n",
              "</table>\n",
              "<p>4668 rows × 6 columns</p>\n",
              "</div>"
            ],
            "text/plain": [
              "                   High          Low  ...      Volume    Adj Close\n",
              "Date                                  ...                         \n",
              "2002-01-01    48.248001    47.263901  ...   4409538.0    23.379265\n",
              "2002-01-02    47.794998    47.014000  ...   4379472.0    23.271935\n",
              "2002-01-03    47.943401    46.115898  ...  10104512.0    22.723852\n",
              "2002-01-04    50.879799    46.545399  ...  28667936.0    24.609550\n",
              "2002-01-07    51.629501    49.560001  ...  19441716.0    24.529072\n",
              "...                 ...          ...  ...         ...          ...\n",
              "2020-11-19  2010.449951  1968.199951  ...  12828008.0  1973.150024\n",
              "2020-11-20  1983.800049  1895.000000  ...  26522972.0  1899.500000\n",
              "2020-11-23  1970.000000  1926.250000  ...  20918665.0  1950.699951\n",
              "2020-11-24  1974.000000  1932.000000  ...  14277083.0  1964.050049\n",
              "2020-11-25  1992.949951  1956.050049  ...  11545795.0  1962.750000\n",
              "\n",
              "[4668 rows x 6 columns]"
            ]
          },
          "metadata": {
            "tags": []
          },
          "execution_count": 1
        }
      ]
    },
    {
      "cell_type": "markdown",
      "metadata": {
        "id": "SAHkN49P4lpi"
      },
      "source": [
        "**2. Plotting the data**"
      ]
    },
    {
      "cell_type": "code",
      "metadata": {
        "colab": {
          "base_uri": "https://localhost:8080/",
          "height": 518
        },
        "id": "8Wh_0kDiKiLQ",
        "outputId": "866f04ff-0002-4e32-aa4a-95a3034b0649"
      },
      "source": [
        "plt.figure(figsize=(16,8))\n",
        "plt.title('Close Price History')\n",
        "plt.plot(df['Close'])\n",
        "plt.xlabel('Date', fontsize=18)\n",
        "plt.ylabel('Close Price USD ($)', fontsize=18)\n",
        "plt.show()"
      ],
      "execution_count": null,
      "outputs": [
        {
          "output_type": "display_data",
          "data": {
            "image/png": "[encoded data removed]",
            "text/plain": [
              "<Figure size 1152x576 with 1 Axes>"
            ]
          },
          "metadata": {
            "tags": [],
            "needs_background": "light"
          }
        }
      ]
    },
    {
      "cell_type": "markdown",
      "metadata": {
        "id": "ftyc2DrM45t3"
      },
      "source": [
        "**3. Splitting the data in training, validation and test**"
      ]
    },
    {
      "cell_type": "code",
      "metadata": {
        "colab": {
          "base_uri": "https://localhost:8080/"
        },
        "id": "s1Uv2DLKKyf0",
        "outputId": "f6ad4ae0-8f41-4fe1-adf2-6089f6e0fcd6"
      },
      "source": [
        "#Create a new dataframe with only the 'Close column\n",
        "data = df.filter(['Close'])\n",
        "#Convert the dataframe to a numpy array\n",
        "dataset = data.values\n",
        "#Get the number of rows to train the model on\n",
        "training_data_len = int(np.ceil( len(dataset) * .9 ))\n",
        "validation_data_len = int(np.ceil( len(dataset) * .05 ))\n",
        "test_data_len = int(np.ceil( len(dataset) * .05 ))\n",
        "print(training_data_len)\n",
        "print(validation_data_len)\n",
        "print(test_data_len)"
      ],
      "execution_count": null,
      "outputs": [
        {
          "output_type": "stream",
          "text": [
            "4202\n",
            "234\n",
            "234\n"
          ],
          "name": "stdout"
        }
      ]
    },
    {
      "cell_type": "markdown",
      "metadata": {
        "id": "33E4JU4W7YTj"
      },
      "source": [
        "**4. Data Normalization**"
      ]
    },
    {
      "cell_type": "code",
      "metadata": {
        "colab": {
          "base_uri": "https://localhost:8080/"
        },
        "id": "YGzGb-ZoK1rE",
        "outputId": "1a68d10e-b2fe-4b02-c016-4bef129c16c4"
      },
      "source": [
        "#Scale the data\n",
        "from sklearn.preprocessing import MinMaxScaler\n",
        "\n",
        "scaler = MinMaxScaler(feature_range=(0,1))\n",
        "scaled_data = scaler.fit_transform(dataset)\n",
        "\n",
        "scaled_data"
      ],
      "execution_count": null,
      "outputs": [
        {
          "output_type": "execute_result",
          "data": {
            "text/plain": [
              "array([[0.00581062],\n",
              "       [0.00571513],\n",
              "       [0.00522749],\n",
              "       ...,\n",
              "       [0.83676228],\n",
              "       [0.84259146],\n",
              "       [0.84202381]])"
            ]
          },
          "metadata": {
            "tags": []
          },
          "execution_count": 5
        }
      ]
    },
    {
      "cell_type": "markdown",
      "metadata": {
        "id": "P7BK1u9w7d6R"
      },
      "source": [
        "**5. Fetching train data**"
      ]
    },
    {
      "cell_type": "code",
      "metadata": {
        "colab": {
          "base_uri": "https://localhost:8080/"
        },
        "id": "QDwjg6aSK9W2",
        "outputId": "0b7a6679-0d85-444e-9f49-3077f72b4524"
      },
      "source": [
        "train_data = scaled_data[0:int(training_data_len), :]\n",
        "valid_data = scaled_data[int(training_data_len)- 60: int(training_data_len) + int(validation_data_len), :]\n",
        "print(train_data.shape)\n",
        "#Split the data into x_train and y_train data sets\n",
        "x_train = []\n",
        "y_train = []\n",
        "\n",
        "for i in range(60, len(train_data)):\n",
        "    x_train.append(train_data[i-60:i, 0])\n",
        "    y_train.append(train_data[i, 0])\n",
        "    if i<= 61:\n",
        "        print(x_train)\n",
        "        print(y_train)\n",
        "        print()\n",
        "        \n",
        "# Convert the x_train and y_train to numpy arrays \n",
        "x_train, y_train = np.array(x_train), np.array(y_train)\n",
        "\n",
        "#Reshape the data\n",
        "x_train = np.reshape(x_train, (x_train.shape[0], x_train.shape[1], 1))\n",
        "x_train.shape"
      ],
      "execution_count": null,
      "outputs": [
        {
          "output_type": "stream",
          "text": [
            "(4202, 1)\n",
            "[array([0.00581062, 0.00571513, 0.00522749, 0.00690523, 0.00683363,\n",
            "       0.006687  , 0.00740309, 0.00715076, 0.00729738, 0.00722237,\n",
            "       0.00702116, 0.00685065, 0.00674494, 0.00626076, 0.00631529,\n",
            "       0.00632896, 0.00646877, 0.00639376, 0.00647899, 0.0064551 ,\n",
            "       0.00660173, 0.00642781, 0.00547646, 0.00551397, 0.00566059,\n",
            "       0.00505362, 0.00490355, 0.00601183, 0.00623347, 0.00605615,\n",
            "       0.00609706, 0.00615164, 0.00625735, 0.00653352, 0.00674835,\n",
            "       0.00689161, 0.00663242, 0.0064517 , 0.0064858 , 0.00647218,\n",
            "       0.00692571, 0.00722577, 0.00600502, 0.00699047, 0.00640057,\n",
            "       0.00640738, 0.00599135, 0.00624028, 0.00594362, 0.0053639 ,\n",
            "       0.00494106, 0.00503655, 0.00529914, 0.00601864, 0.00592655,\n",
            "       0.00544236, 0.00572539, 0.00571173, 0.0057288 , 0.00546961])]\n",
            "[0.005476464042926534]\n",
            "\n",
            "[array([0.00581062, 0.00571513, 0.00522749, 0.00690523, 0.00683363,\n",
            "       0.006687  , 0.00740309, 0.00715076, 0.00729738, 0.00722237,\n",
            "       0.00702116, 0.00685065, 0.00674494, 0.00626076, 0.00631529,\n",
            "       0.00632896, 0.00646877, 0.00639376, 0.00647899, 0.0064551 ,\n",
            "       0.00660173, 0.00642781, 0.00547646, 0.00551397, 0.00566059,\n",
            "       0.00505362, 0.00490355, 0.00601183, 0.00623347, 0.00605615,\n",
            "       0.00609706, 0.00615164, 0.00625735, 0.00653352, 0.00674835,\n",
            "       0.00689161, 0.00663242, 0.0064517 , 0.0064858 , 0.00647218,\n",
            "       0.00692571, 0.00722577, 0.00600502, 0.00699047, 0.00640057,\n",
            "       0.00640738, 0.00599135, 0.00624028, 0.00594362, 0.0053639 ,\n",
            "       0.00494106, 0.00503655, 0.00529914, 0.00601864, 0.00592655,\n",
            "       0.00544236, 0.00572539, 0.00571173, 0.0057288 , 0.00546961]), array([0.00571513, 0.00522749, 0.00690523, 0.00683363, 0.006687  ,\n",
            "       0.00740309, 0.00715076, 0.00729738, 0.00722237, 0.00702116,\n",
            "       0.00685065, 0.00674494, 0.00626076, 0.00631529, 0.00632896,\n",
            "       0.00646877, 0.00639376, 0.00647899, 0.0064551 , 0.00660173,\n",
            "       0.00642781, 0.00547646, 0.00551397, 0.00566059, 0.00505362,\n",
            "       0.00490355, 0.00601183, 0.00623347, 0.00605615, 0.00609706,\n",
            "       0.00615164, 0.00625735, 0.00653352, 0.00674835, 0.00689161,\n",
            "       0.00663242, 0.0064517 , 0.0064858 , 0.00647218, 0.00692571,\n",
            "       0.00722577, 0.00600502, 0.00699047, 0.00640057, 0.00640738,\n",
            "       0.00599135, 0.00624028, 0.00594362, 0.0053639 , 0.00494106,\n",
            "       0.00503655, 0.00529914, 0.00601864, 0.00592655, 0.00544236,\n",
            "       0.00572539, 0.00571173, 0.0057288 , 0.00546961, 0.00547646])]\n",
            "[0.005476464042926534, 0.0054900873737041556]\n",
            "\n"
          ],
          "name": "stdout"
        },
        {
          "output_type": "execute_result",
          "data": {
            "text/plain": [
              "(4142, 60, 1)"
            ]
          },
          "metadata": {
            "tags": []
          },
          "execution_count": 12
        }
      ]
    },
    {
      "cell_type": "markdown",
      "metadata": {
        "id": "Y-1Z9GJE7ktN"
      },
      "source": [
        "**6. Fetching the validation data**"
      ]
    },
    {
      "cell_type": "code",
      "metadata": {
        "colab": {
          "base_uri": "https://localhost:8080/"
        },
        "id": "A-DuMQic5ySm",
        "outputId": "8d0d6322-72b7-4083-a828-b58a561065e4"
      },
      "source": [
        "#Split the data into x_valid and y_valid data sets\n",
        "x_valid = []\n",
        "y_valid = []\n",
        "\n",
        "for i in range(60, len(valid_data)):\n",
        "    x_valid.append(valid_data[i-60:i, 0])\n",
        "    y_valid.append(valid_data[i, 0])\n",
        "    if i<= 61:\n",
        "        print(x_valid)\n",
        "        print(y_valid)\n",
        "        print()\n",
        "        \n",
        "# Convert the x_valid and y_valid to numpy arrays \n",
        "x_valid, y_valid = np.array(x_valid), np.array(y_valid)\n",
        "\n",
        "#Reshape the data\n",
        "x_valid = np.reshape(x_valid, (x_valid.shape[0], x_valid.shape[1], 1))\n",
        "x_valid.shape"
      ],
      "execution_count": null,
      "outputs": [
        {
          "output_type": "stream",
          "text": [
            "[array([0.52233819, 0.53142032, 0.53244641, 0.53428027, 0.52281849,\n",
            "       0.51120389, 0.47502831, 0.44297897, 0.46941751, 0.46096854,\n",
            "       0.46623002, 0.45998611, 0.47690589, 0.48266951, 0.49317071,\n",
            "       0.48771271, 0.46588074, 0.44900461, 0.4455333 , 0.44162539,\n",
            "       0.43509765, 0.44125426, 0.45998611, 0.44653759, 0.44839331,\n",
            "       0.44621011, 0.45435345, 0.4610777 , 0.4671033 , 0.46998511,\n",
            "       0.46245308, 0.4565803 , 0.46507291, 0.46441795, 0.46393766,\n",
            "       0.47727702, 0.48714506, 0.48164341, 0.47094575, 0.4665575 ,\n",
            "       0.46957032, 0.4776263 , 0.48830217, 0.49522289, 0.49480811,\n",
            "       0.48996136, 0.48814935, 0.48939376, 0.47563962, 0.48007152,\n",
            "       0.46105585, 0.46424334, 0.4698978 , 0.46839142, 0.47064007,\n",
            "       0.47836862, 0.48120677, 0.48138144, 0.47773546, 0.46540039])]\n",
            "[0.4605755581588886]\n",
            "\n",
            "[array([0.52233819, 0.53142032, 0.53244641, 0.53428027, 0.52281849,\n",
            "       0.51120389, 0.47502831, 0.44297897, 0.46941751, 0.46096854,\n",
            "       0.46623002, 0.45998611, 0.47690589, 0.48266951, 0.49317071,\n",
            "       0.48771271, 0.46588074, 0.44900461, 0.4455333 , 0.44162539,\n",
            "       0.43509765, 0.44125426, 0.45998611, 0.44653759, 0.44839331,\n",
            "       0.44621011, 0.45435345, 0.4610777 , 0.4671033 , 0.46998511,\n",
            "       0.46245308, 0.4565803 , 0.46507291, 0.46441795, 0.46393766,\n",
            "       0.47727702, 0.48714506, 0.48164341, 0.47094575, 0.4665575 ,\n",
            "       0.46957032, 0.4776263 , 0.48830217, 0.49522289, 0.49480811,\n",
            "       0.48996136, 0.48814935, 0.48939376, 0.47563962, 0.48007152,\n",
            "       0.46105585, 0.46424334, 0.4698978 , 0.46839142, 0.47064007,\n",
            "       0.47836862, 0.48120677, 0.48138144, 0.47773546, 0.46540039]), array([0.53142032, 0.53244641, 0.53428027, 0.52281849, 0.51120389,\n",
            "       0.47502831, 0.44297897, 0.46941751, 0.46096854, 0.46623002,\n",
            "       0.45998611, 0.47690589, 0.48266951, 0.49317071, 0.48771271,\n",
            "       0.46588074, 0.44900461, 0.4455333 , 0.44162539, 0.43509765,\n",
            "       0.44125426, 0.45998611, 0.44653759, 0.44839331, 0.44621011,\n",
            "       0.45435345, 0.4610777 , 0.4671033 , 0.46998511, 0.46245308,\n",
            "       0.4565803 , 0.46507291, 0.46441795, 0.46393766, 0.47727702,\n",
            "       0.48714506, 0.48164341, 0.47094575, 0.4665575 , 0.46957032,\n",
            "       0.4776263 , 0.48830217, 0.49522289, 0.49480811, 0.48996136,\n",
            "       0.48814935, 0.48939376, 0.47563962, 0.48007152, 0.46105585,\n",
            "       0.46424334, 0.4698978 , 0.46839142, 0.47064007, 0.47836862,\n",
            "       0.48120677, 0.48138144, 0.47773546, 0.46540039, 0.46057556])]\n",
            "[0.4605755581588886, 0.46459262018558545]\n",
            "\n"
          ],
          "name": "stdout"
        },
        {
          "output_type": "execute_result",
          "data": {
            "text/plain": [
              "(234, 60, 1)"
            ]
          },
          "metadata": {
            "tags": []
          },
          "execution_count": 72
        }
      ]
    },
    {
      "cell_type": "markdown",
      "metadata": {
        "id": "KQNM1Gbv7paU"
      },
      "source": [
        "**7. Model Building**"
      ]
    },
    {
      "cell_type": "code",
      "metadata": {
        "colab": {
          "background_save": true,
          "base_uri": "https://localhost:8080/"
        },
        "id": "FXRXEWOnMMvC",
        "outputId": "f12e3189-7483-42cb-e703-8fd07b52cab1"
      },
      "source": [
        "from keras.models import Sequential\n",
        "from keras.layers import Dense, LSTM, GRU\n",
        "\n",
        "#Build the LSTM/GRU model\n",
        "# LSTM Layer returns whole_seq_output, final_memory_state, and final_carry_state \n",
        "# GRU Layer whole_sequence_output, and final_state\n",
        "model = Sequential()\n",
        "model.add(LSTM(64, return_sequences=True, input_shape= (x_train.shape[1], 1)))\n",
        "\n",
        "model.add(LSTM(128, return_sequences= True))\n",
        "model.add(LSTM(256, return_sequences= False))\n",
        "model.add(Dense(25))\n",
        "model.add(Dense(1))\n",
        "# model.add(GRU(64, return_sequences=True, input_shape= (x_train.shape[1], 1)))\n",
        "\n",
        "# model.add(GRU(128, return_sequences= True))\n",
        "# model.add(GRU(256, return_sequences= False))\n",
        "# model.add(Dense(25))\n",
        "# model.add(Dense(1))\n",
        "print(model.summary())\n",
        "# Compile the model\n",
        "model.compile(optimizer='adam', loss='mean_squared_error')\n",
        "\n",
        "#Train the model\n",
        "history = model.fit(x_train, y_train, batch_size=1, validation_data=(x_valid, y_valid), epochs=10)"
      ],
      "execution_count": null,
      "outputs": [
        {
          "output_type": "stream",
          "text": [
            "Model: \"sequential_11\"\n",
            "_________________________________________________________________\n",
            "Layer (type)                 Output Shape              Param #   \n",
            "=================================================================\n",
            "lstm_24 (LSTM)               (None, 60, 64)            16896     \n",
            "_________________________________________________________________\n",
            "lstm_25 (LSTM)               (None, 60, 128)           98816     \n",
            "_________________________________________________________________\n",
            "lstm_26 (LSTM)               (None, 256)               394240    \n",
            "_________________________________________________________________\n",
            "dense_22 (Dense)             (None, 25)                6425      \n",
            "_________________________________________________________________\n",
            "dense_23 (Dense)             (None, 1)                 26        \n",
            "=================================================================\n",
            "Total params: 516,403\n",
            "Trainable params: 516,403\n",
            "Non-trainable params: 0\n",
            "_________________________________________________________________\n",
            "None\n",
            "Epoch 1/10\n",
            "4135/4135 [==============================] - 36s 9ms/step - loss: 5.5016e-04 - val_loss: 0.0178\n",
            "Epoch 2/10\n",
            "4135/4135 [==============================] - 35s 9ms/step - loss: 2.4375e-04 - val_loss: 1.1140e-04\n",
            "Epoch 3/10\n",
            "4135/4135 [==============================] - 36s 9ms/step - loss: 1.0542e-04 - val_loss: 6.8527e-04\n",
            "Epoch 4/10\n",
            "4135/4135 [==============================] - 36s 9ms/step - loss: 1.2455e-04 - val_loss: 1.3214e-04\n",
            "Epoch 5/10\n",
            "4135/4135 [==============================] - 35s 9ms/step - loss: 8.8922e-05 - val_loss: 9.4223e-04\n",
            "Epoch 6/10\n",
            "4135/4135 [==============================] - 35s 9ms/step - loss: 1.0032e-04 - val_loss: 2.8804e-04\n",
            "Epoch 7/10\n",
            "4135/4135 [==============================] - 35s 9ms/step - loss: 7.0276e-05 - val_loss: 0.0025\n",
            "Epoch 8/10\n",
            "4135/4135 [==============================] - 35s 8ms/step - loss: 7.7830e-05 - val_loss: 1.6906e-04\n",
            "Epoch 9/10\n",
            "4135/4135 [==============================] - 35s 8ms/step - loss: 7.1014e-05 - val_loss: 1.2699e-04\n",
            "Epoch 10/10\n",
            "4135/4135 [==============================] - 35s 8ms/step - loss: 6.7161e-05 - val_loss: 2.3427e-04\n"
          ],
          "name": "stdout"
        }
      ]
    },
    {
      "cell_type": "markdown",
      "metadata": {
        "id": "LpjAks--7shy"
      },
      "source": [
        "**8. Plotting loss graph** "
      ]
    },
    {
      "cell_type": "code",
      "metadata": {
        "colab": {
          "base_uri": "https://localhost:8080/",
          "height": 279
        },
        "id": "VO0mZyZQ63li",
        "outputId": "d1dc8700-d543-46b0-ec52-2dee84e09c2b"
      },
      "source": [
        "import matplotlib.pyplot as plt\n",
        "loss = history.history['loss']\n",
        "val_loss = history.history['val_loss']\n",
        "epochs = range(len(loss)) \n",
        "plt.plot(epochs, loss, 'b', label='Training loss')\n",
        "plt.plot(epochs, val_loss, 'r', label='Validation loss')\n",
        "plt.title('Training and validation loss')\n",
        "plt.legend()\n",
        "plt.show()"
      ],
      "execution_count": null,
      "outputs": [
        {
          "output_type": "display_data",
          "data": {
            "image/png": "[encoded data removed]",
            "text/plain": [
              "<Figure size 432x288 with 1 Axes>"
            ]
          },
          "metadata": {
            "tags": []
          }
        }
      ]
    },
    {
      "cell_type": "markdown",
      "metadata": {
        "id": "3nVP92Zl7xvB"
      },
      "source": [
        "**9. Evaluate model performance**"
      ]
    },
    {
      "cell_type": "code",
      "metadata": {
        "colab": {
          "base_uri": "https://localhost:8080/"
        },
        "id": "4uLXWWTSS51I",
        "outputId": "fd6293e4-3d30-4f80-b5f8-d16261a9f48d"
      },
      "source": [
        "test_data = scaled_data[training_data_len + validation_data_len - 60: , :]\n",
        "#Create the data sets x_test and y_test\n",
        "x_test = []\n",
        "y_test = dataset[training_data_len + validation_data_len:, :]\n",
        "for i in range(60, len(test_data)):\n",
        "    x_test.append(test_data[i-60:i, 0])\n",
        "    \n",
        "# Convert the data to a numpy array\n",
        "x_test = np.array(x_test)\n",
        "\n",
        "# Reshape the data\n",
        "x_test = np.reshape(x_test, (x_test.shape[0], x_test.shape[1], 1 ))\n",
        "\n",
        "# Get the models predicted price values \n",
        "predictions = model.predict(x_test)\n",
        "predictions = scaler.inverse_transform(predictions)\n",
        "\n",
        "# Get the root mean squared error (RMSE)\n",
        "rmse = np.sqrt(np.mean(((predictions - y_test) ** 2)))\n",
        "rmse"
      ],
      "execution_count": null,
      "outputs": [
        {
          "output_type": "execute_result",
          "data": {
            "text/plain": [
              "87.77460158447597"
            ]
          },
          "metadata": {
            "tags": []
          },
          "execution_count": 80
        }
      ]
    },
    {
      "cell_type": "markdown",
      "metadata": {
        "id": "UyzjC4Uc731V"
      },
      "source": [
        "**10. Plotting the actual and predicted values**"
      ]
    },
    {
      "cell_type": "code",
      "metadata": {
        "colab": {
          "base_uri": "https://localhost:8080/",
          "height": 620
        },
        "id": "zp1L6WtsS-HX",
        "outputId": "342ef1f5-586f-4202-bc7d-f2520865e73f"
      },
      "source": [
        "train = data[:training_data_len]\n",
        "valid = data[training_data_len : training_data_len + validation_data_len]\n",
        "test = data[training_data_len + validation_data_len:]\n",
        "test['Predictions'] = predictions\n",
        "# Visualize the data\n",
        "plt.figure(figsize=(16,8))\n",
        "plt.title('Model')\n",
        "plt.xlabel('Date', fontsize=18)\n",
        "plt.ylabel('Close Price USD ($)', fontsize=18)\n",
        "plt.plot(train['Close'])\n",
        "plt.plot(valid[['Close']])\n",
        "plt.plot(test[['Close','Predictions' ]])\n",
        "plt.legend(['Train', 'Valid',  'Test', 'Predictions'], loc='lower right')\n",
        "plt.show()\n"
      ],
      "execution_count": null,
      "outputs": [
        {
          "output_type": "stream",
          "text": [
            "/usr/local/lib/python3.6/dist-packages/ipykernel_launcher.py:4: SettingWithCopyWarning: \n",
            "A value is trying to be set on a copy of a slice from a DataFrame.\n",
            "Try using .loc[row_indexer,col_indexer] = value instead\n",
            "\n",
            "See the caveats in the documentation: https://pandas.pydata.org/pandas-docs/stable/user_guide/indexing.html#returning-a-view-versus-a-copy\n",
            "  after removing the cwd from sys.path.\n"
          ],
          "name": "stderr"
        },
        {
          "output_type": "display_data",
          "data": {
            "image/png": "[encoded data removed]",
            "text/plain": [
              "<Figure size 1152x576 with 1 Axes>"
            ]
          },
          "metadata": {
            "tags": []
          }
        }
      ]
    },
    {
      "cell_type": "markdown",
      "metadata": {
        "id": "vp7dvOPOV9QD"
      },
      "source": [
        "**References**\n",
        "1. https://keras.io/api/layers/recurrent_layers/\n",
        "2. https://keras.io/examples/\n",
        "3. https://www.kaggle.com/faressayah/stock-market-analysis-prediction-using-lstm\n",
        "4. https://www.tensorflow.org/guide/keras/rnn"
      ]
    }
  ]
}